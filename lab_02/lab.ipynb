{
 "cells": [
  {
   "cell_type": "markdown",
   "metadata": {
    "collapsed": true,
    "jupyter": {
     "outputs_hidden": true
    }
   },
   "source": [
    "## Лабораторная работа №1\n",
    "### Выполнила студентка группы ДПИ22-2, Сирина Яна\n",
    "### Вариант 3"
   ]
  },
  {
   "cell_type": "markdown",
   "metadata": {
    "collapsed": false,
    "jupyter": {
     "outputs_hidden": false
    }
   },
   "source": [
    "Загрузите данные по вариантам в ноутбук."
   ]
  },
  {
   "cell_type": "code",
   "execution_count": null,
   "metadata": {},
   "outputs": [],
   "source": [
    "import pandas as pd"
   ]
  },
  {
   "cell_type": "code",
   "execution_count": null,
   "metadata": {},
   "outputs": [],
   "source": [
    "exam_results = pd.read_excel('var3.xlsx', skiprows=2)\n",
    "exam_results"
   ]
  },
  {
   "cell_type": "markdown",
   "metadata": {},
   "source": [
    "Сделайте описательную статистику полученных данных."
   ]
  },
  {
   "cell_type": "code",
   "execution_count": null,
   "metadata": {},
   "outputs": [],
   "source": [
    "exam_results.info()"
   ]
  },
  {
   "cell_type": "markdown",
   "metadata": {},
   "source": [
    "Найдите процент учащихся, выполнивших работу ниже среднего."
   ]
  },
  {
   "cell_type": "code",
   "execution_count": null,
   "metadata": {},
   "outputs": [],
   "source": [
    "score_column = exam_results[\"Балл\"]\n",
    "average_score = score_column.mean() # средний результат\n",
    "\n",
    "total_students = exam_results.shape[0] # общее число студентов\n",
    "below_average_count = exam_results[score_column < average_score].shape[0] # студенты с баллом ниже среднего\n",
    "percentage_below_average = (below_average_count / total_students) * 100\n",
    "\n",
    "print(f\"Процент учащихся, выполнивших работу ниже среднего: {percentage_below_average:.2f}%\")"
   ]
  },
  {
   "cell_type": "markdown",
   "metadata": {},
   "source": [
    "Найти процент учащихся не сдавших экзамен."
   ]
  },
  {
   "cell_type": "code",
   "execution_count": null,
   "metadata": {},
   "outputs": [],
   "source": [
    "min_score_column = exam_results[\"Минимальный балл\"]\n",
    "failed_count = exam_results[score_column < min_score_column].shape[0] # количство студентов с баллом меньше минимума\n",
    "percentage_failed = (failed_count / total_students) * 100\n",
    "\n",
    "print(f\"Процент учащихся, не сдавших экзамен: {percentage_failed:.2f}%\")"
   ]
  },
  {
   "cell_type": "markdown",
   "metadata": {},
   "source": [
    "Постройте круговую диаграмму, показывающую распределение сдавших и не сдавших экзамен."
   ]
  },
  {
   "cell_type": "code",
   "execution_count": null,
   "metadata": {},
   "outputs": [],
   "source": [
    "import matplotlib.pyplot as plt"
   ]
  },
  {
   "cell_type": "code",
   "execution_count": null,
   "metadata": {},
   "outputs": [],
   "source": [
    "passed_count = total_students - failed_count\n",
    "\n",
    "plt.figure(figsize=(8, 6))\n",
    "plt.pie([passed_count, failed_count], labels=['Сдали', 'Не сдали'])\n",
    "plt.axis('equal')\n",
    "\n",
    "plt.title(\"Распределение результатов экзамена\")\n",
    "plt.show()"
   ]
  },
  {
   "cell_type": "markdown",
   "metadata": {},
   "source": [
    "Постройте ядерную оценку плотности распределению баллов за экзамен."
   ]
  },
  {
   "cell_type": "code",
   "execution_count": null,
   "metadata": {},
   "outputs": [],
   "source": [
    "import seaborn as sns"
   ]
  },
  {
   "cell_type": "code",
   "execution_count": null,
   "metadata": {},
   "outputs": [],
   "source": [
    "plt.figure()\n",
    "sns.kdeplot(score_column)\n",
    "plt.title('Ядерная оценка плотности распределения баллов за экзамен')\n",
    "plt.xlabel('Балл')\n",
    "plt.ylabel('Плотность')\n",
    "plt.show()"
   ]
  },
  {
   "cell_type": "markdown",
   "metadata": {},
   "source": [
    "Найдите процентное соотношение учащихся, сдавших экзамен на «отлично», «хорошо», «удовлетворительно», «неудовлетворительно»."
   ]
  },
  {
   "cell_type": "code",
   "execution_count": null,
   "metadata": {},
   "outputs": [],
   "source": [
    "# из таблицы https://postupi.online/journal/shkala-perevoda-ballov-ege/shkala-perevoda-ballov-ege-v-ocenki/\n",
    "EXCELLENT = 73\n",
    "GOOD = 57\n",
    "SATISFACTORY = 40\n",
    "\n",
    "excellent_count = exam_results[score_column >= EXCELLENT].shape[0]\n",
    "good_count = exam_results[(score_column < EXCELLENT) & (score_column >= GOOD)].shape[0]\n",
    "satisfactory_count = exam_results[(score_column < GOOD) & (score_column >= SATISFACTORY)].shape[0]\n",
    "unsatisfactory_count = exam_results[score_column < SATISFACTORY].shape[0]\n",
    "\n",
    "excellent_percentage = (excellent_count / total_students) * 100\n",
    "good_percentage = (good_count / total_students) * 100\n",
    "satisfactory_percentage = (satisfactory_count / total_students) * 100\n",
    "unsatisfactory_percentage = (unsatisfactory_count / total_students) * 100\n",
    "\n",
    "print(f\"Процент учеников, сдавших экзамен на отлично: {excellent_percentage:.2f}%\")\n",
    "print(f\"Процент учеников, сдавших экзамен на хорошо: {good_percentage:.2f}%\")\n",
    "print(f\"Процент учеников, сдавших экзамен на удовлетворительно: {satisfactory_percentage:.2f}%\")\n",
    "print(f\"Процент учеников, сдавших экзамен на неудовлетворительно: {unsatisfactory_percentage:.2f}%\")"
   ]
  },
  {
   "cell_type": "markdown",
   "metadata": {},
   "source": [
    "Какое процентное соотношение юношей и девушек писало данный экзамен?"
   ]
  },
  {
   "cell_type": "code",
   "execution_count": null,
   "metadata": {},
   "outputs": [],
   "source": [
    "gender_column = exam_results[\"Пол\"]\n",
    "\n",
    "male_count = exam_results[gender_column == 'М'].shape[0]\n",
    "female_count = exam_results[gender_column == 'Ж'].shape[0]\n",
    "\n",
    "male_percentage = (male_count / total_students) * 100\n",
    "female_percentage = (female_count / total_students) * 100\n",
    "\n",
    "print(f\"Процент юношей, писавших экзамен: {male_percentage:.2f}%\")\n",
    "print(f\"Процент девушек, писавших экзамен: {female_percentage:.2f}%\")"
   ]
  },
  {
   "cell_type": "markdown",
   "metadata": {},
   "source": [
    "Сколько школ принимало участие в экзамене?"
   ]
  },
  {
   "cell_type": "code",
   "execution_count": null,
   "metadata": {},
   "outputs": [],
   "source": [
    "school_column = exam_results[\"№ школы\"]\n",
    "unique_schools_count = school_column.nunique() # количество уникальных значение в столбце\n",
    "unique_schools_count"
   ]
  },
  {
   "cell_type": "markdown",
   "metadata": {},
   "source": [
    "Сколько всего заданий с кратким ответом? С развернутым ответом?"
   ]
  },
  {
   "cell_type": "code",
   "execution_count": null,
   "metadata": {},
   "outputs": [],
   "source": [
    "first_row = exam_results.iloc[0] # в качестве примера возьмем первую строку\n",
    "\n",
    "short_tasks_count = len(first_row[\"Задания с кратким ответом\"])\n",
    "long_tasks_count = first_row[\"Задания с развёрнутым ответом\"].count(')')\n",
    "\n",
    "print(f\"Количество заданий с кратким ответом: {short_tasks_count}\")\n",
    "print(f\"Количество заданий с развёрнутым ответом: {long_tasks_count}\")"
   ]
  },
  {
   "cell_type": "markdown",
   "metadata": {},
   "source": [
    "Пусть задания с кратким ответом будут задания типа В. Соответственно всего по экзамену вопросов класса В: В1, ... Вк\n",
    "Посчитайте процент выполненных и невыполненных заданий по каждому вопросу класса В."
   ]
  },
  {
   "cell_type": "code",
   "execution_count": null,
   "metadata": {},
   "outputs": [],
   "source": [
    "short_answer_column = exam_results[\"Задания с кратким ответом\"]\n",
    "tasks_count = len(short_answer_column[0]) # количество заданий\n",
    "\n",
    "# список, в который мы будем записывать количество правильных решений для каждого задания\n",
    "completed_counts = [0] * tasks_count\n",
    "\n",
    "# заполним списки с количеством ответов\n",
    "for entry in short_answer_column:\n",
    "    for i, char in enumerate(str(entry)):\n",
    "        if char not in ['-', '0']:\n",
    "            completed_counts[i] += 1\n",
    "\n",
    "total_entries = len(short_answer_column) # общее количество решений\n",
    "for i in range(tasks_count):\n",
    "    completed_percentage = (completed_counts[i] / total_entries) * 100\n",
    "    not_completed_percentage = 100 - completed_percentage\n",
    "    print(f'В задании B{i + 1} процент правильных решений - {completed_percentage:.2f}, а неправильных {not_completed_percentage:.2f}')"
   ]
  },
  {
   "cell_type": "markdown",
   "metadata": {},
   "source": [
    "Аналогично и с типом С (ответы с развернутым ответом)"
   ]
  },
  {
   "cell_type": "code",
   "execution_count": null,
   "metadata": {},
   "outputs": [],
   "source": [
    "long_answer_column = exam_results['Задания с развёрнутым ответом']\n",
    "tasks_count = long_answer_column.iloc[0].count(')')\n",
    "\n",
    "completed_counts = [0] * tasks_count\n",
    "\n",
    "for entry in long_answer_column:\n",
    "    entry = str(entry)\n",
    "    tasks = entry.split(')')[:-1]\n",
    "    for i, task in enumerate(tasks):\n",
    "        score = int(task.split('(')[0])\n",
    "        if score != 0:\n",
    "            completed_counts[i] += 1\n",
    "\n",
    "total_entries = len(long_answer_column)\n",
    "for i in range(tasks_count):\n",
    "    completed_percentage = (completed_counts[i] / total_entries) * 100\n",
    "    not_completed_percentage = 100 - completed_percentage\n",
    "    print(f'В задании C{i + 1} процент правильных решений - {completed_percentage:.2f}, а неправильных {not_completed_percentage:.2f}')"
   ]
  },
  {
   "cell_type": "markdown",
   "metadata": {},
   "source": [
    "Сделайте анализ по двум школам:\n",
    "1. по всем выполненным заданиям типа В\n",
    "2. по заданиям типа С больше 50%\n",
    "3. по среднему баллу юношей и девушек"
   ]
  },
  {
   "cell_type": "code",
   "execution_count": null,
   "metadata": {},
   "outputs": [],
   "source": [
    "import statistics"
   ]
  },
  {
   "cell_type": "code",
   "execution_count": null,
   "metadata": {},
   "outputs": [],
   "source": [
    "school_number_1 = 152\n",
    "school_number_2 = 140\n",
    "\n",
    "needed_columns = ['Пол', 'Задания с кратким ответом', 'Задания с развёрнутым ответом', 'Балл']\n",
    "school_data_1 = exam_results[school_column == school_number_1][needed_columns]\n",
    "school_data_2 = exam_results[school_column == school_number_2][needed_columns]"
   ]
  },
  {
   "cell_type": "markdown",
   "metadata": {},
   "source": [
    "По всем выполненным заданиям типа В:"
   ]
  },
  {
   "cell_type": "code",
   "execution_count": null,
   "metadata": {},
   "outputs": [],
   "source": [
    "def get_b_statistics(tasks_data):\n",
    "    tasks_count = len(tasks_data.iloc[0]['Задания с кратким ответом'])\n",
    "    completed_counts = [0] * tasks_count\n",
    "    total_entries = len(tasks_data)\n",
    "\n",
    "    for entry in tasks_data['Задания с кратким ответом']:\n",
    "        for i, char in enumerate(str(entry)):\n",
    "            if char in ['-', '0']:\n",
    "                completed_counts[i] += 1\n",
    "\n",
    "    completed_percents = [(count / total_entries) * 100 for count in completed_counts]\n",
    "    completed_percent = statistics.mean(completed_percents)\n",
    "\n",
    "    return completed_percent"
   ]
  },
  {
   "cell_type": "code",
   "execution_count": null,
   "metadata": {},
   "outputs": [],
   "source": [
    "print(f'Процент выполнения заданий типа В в школе №{school_number_1}: {get_b_statistics(school_data_1)}')\n",
    "print(f'Процент выполнения заданий типа В в школе №{school_number_2}: {get_b_statistics(school_data_2)}')"
   ]
  },
  {
   "cell_type": "markdown",
   "metadata": {},
   "source": [
    "По заданиям типа С:"
   ]
  },
  {
   "cell_type": "code",
   "execution_count": null,
   "metadata": {},
   "outputs": [],
   "source": [
    "def get_c_statistics(tasks_data):\n",
    "    long_tasks_column = tasks_data['Задания с развёрнутым ответом']\n",
    "    tasks_count = long_tasks_column.iloc[0].count(')')\n",
    "\n",
    "    total_completed = 0\n",
    "    total_questions = 0\n",
    "\n",
    "    for entry in long_tasks_column:\n",
    "        entry = str(entry)\n",
    "        tasks = entry.split(')')[:-1]\n",
    "        for task in tasks:\n",
    "            score = int(task.split('(')[0])\n",
    "            if score >= 2:\n",
    "                total_completed += 1\n",
    "            total_questions += 1\n",
    "\n",
    "    completed_percent = total_completed / total_questions * 100\n",
    "    return completed_percent"
   ]
  },
  {
   "cell_type": "code",
   "execution_count": null,
   "metadata": {},
   "outputs": [],
   "source": [
    "print(f'Процент выполнения заданий типа С в школе №{school_number_1}: {get_c_statistics(school_data_1)}')\n",
    "print(f'Процент выполнения заданий типа С в школе №{school_number_2}: {get_c_statistics(school_data_2)}')"
   ]
  },
  {
   "cell_type": "markdown",
   "metadata": {},
   "source": [
    "По среднему баллу юношей и девушек:"
   ]
  },
  {
   "cell_type": "code",
   "execution_count": null,
   "metadata": {},
   "outputs": [],
   "source": [
    "def get_average_scores_by_genders(tasks_data):\n",
    "    gender_column = tasks_data['Пол']\n",
    "    male_scores = tasks_data[gender_column == 'М']['Балл']\n",
    "    female_scores = tasks_data[gender_column == 'Ж']['Балл']\n",
    "    male_avg_score = male_scores.mean()\n",
    "    female_avg_score = female_scores.mean()\n",
    "    return male_avg_score, female_avg_score"
   ]
  },
  {
   "cell_type": "code",
   "execution_count": null,
   "metadata": {
    "scrolled": true
   },
   "outputs": [],
   "source": [
    "male_score_school_1, female_score_school_1 = get_average_scores_by_genders(school_data_1)\n",
    "male_score_school_2, female_score_school_2 = get_average_scores_by_genders(school_data_2)\n",
    "\n",
    "print(f'Средний балл юношей из школы №{school_number_1}: {male_score_school_1}')\n",
    "print(f'Средний балл девушек из школы №{school_number_1}: {female_score_school_1}')\n",
    "print(f'Средний балл юношей из школы №{school_number_2}: {male_score_school_2}')\n",
    "print(f'Средний балл девушек из школы №{school_number_2}: {female_score_school_2}')"
   ]
  },
  {
   "cell_type": "code",
   "execution_count": null,
   "metadata": {},
   "outputs": [],
   "source": []
  }
 ],
 "metadata": {
  "kernelspec": {
   "display_name": "Python 3 (ipykernel)",
   "language": "python",
   "name": "python3"
  },
  "language_info": {
   "codemirror_mode": {
    "name": "ipython",
    "version": 3
   },
   "file_extension": ".py",
   "mimetype": "text/x-python",
   "name": "python",
   "nbconvert_exporter": "python",
   "pygments_lexer": "ipython3",
   "version": "3.12.0"
  }
 },
 "nbformat": 4,
 "nbformat_minor": 4
}
