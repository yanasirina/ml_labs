{
 "cells": [
  {
   "cell_type": "markdown",
   "metadata": {
    "collapsed": true,
    "jupyter": {
     "outputs_hidden": true
    }
   },
   "source": [
    "## Лабораторная работа №1\n",
    "### Выполнила студентка группы ДПИ22-2, Сирина Яна\n",
    "### Вариант 3"
   ]
  },
  {
   "cell_type": "markdown",
   "metadata": {
    "collapsed": false,
    "jupyter": {
     "outputs_hidden": false
    }
   },
   "source": [
    "Загрузите данные по вариантам в ноутбук."
   ]
  },
  {
   "cell_type": "code",
   "execution_count": 1,
   "metadata": {},
   "outputs": [],
   "source": [
    "import pandas as pd"
   ]
  },
  {
   "cell_type": "code",
   "execution_count": 2,
   "metadata": {},
   "outputs": [
    {
     "data": {
      "text/html": [
       "<div>\n",
       "<style scoped>\n",
       "    .dataframe tbody tr th:only-of-type {\n",
       "        vertical-align: middle;\n",
       "    }\n",
       "\n",
       "    .dataframe tbody tr th {\n",
       "        vertical-align: top;\n",
       "    }\n",
       "\n",
       "    .dataframe thead th {\n",
       "        text-align: right;\n",
       "    }\n",
       "</style>\n",
       "<table border=\"1\" class=\"dataframe\">\n",
       "  <thead>\n",
       "    <tr style=\"text-align: right;\">\n",
       "      <th></th>\n",
       "      <th>№</th>\n",
       "      <th>№ школы</th>\n",
       "      <th>Класс</th>\n",
       "      <th>Пол</th>\n",
       "      <th>Номер варианта</th>\n",
       "      <th>Задания с кратким ответом</th>\n",
       "      <th>Задания с развёрнутым ответом</th>\n",
       "      <th>Устная часть</th>\n",
       "      <th>Первичный балл</th>\n",
       "      <th>Балл</th>\n",
       "      <th>Минимальный балл</th>\n",
       "    </tr>\n",
       "  </thead>\n",
       "  <tbody>\n",
       "    <tr>\n",
       "      <th>0</th>\n",
       "      <td>1.0</td>\n",
       "      <td>152.0</td>\n",
       "      <td>11</td>\n",
       "      <td>М</td>\n",
       "      <td>333.0</td>\n",
       "      <td>----001---00---000--1-+0---</td>\n",
       "      <td>0(3)0(3)0(3)0(3)0(3)</td>\n",
       "      <td>NaN</td>\n",
       "      <td>3.0</td>\n",
       "      <td>10.000000</td>\n",
       "      <td>36.0</td>\n",
       "    </tr>\n",
       "    <tr>\n",
       "      <th>1</th>\n",
       "      <td>2.0</td>\n",
       "      <td>140.0</td>\n",
       "      <td>12</td>\n",
       "      <td>Ж</td>\n",
       "      <td>332.0</td>\n",
       "      <td>----100---01-+-000--0--1---</td>\n",
       "      <td>0(3)0(3)0(3)0(3)0(3)</td>\n",
       "      <td>NaN</td>\n",
       "      <td>4.0</td>\n",
       "      <td>14.000000</td>\n",
       "      <td>36.0</td>\n",
       "    </tr>\n",
       "    <tr>\n",
       "      <th>2</th>\n",
       "      <td>3.0</td>\n",
       "      <td>137.0</td>\n",
       "      <td>11</td>\n",
       "      <td>М</td>\n",
       "      <td>328.0</td>\n",
       "      <td>--+-010---00---101--0--1---</td>\n",
       "      <td>0(3)0(3)0(3)0(3)0(3)</td>\n",
       "      <td>NaN</td>\n",
       "      <td>5.0</td>\n",
       "      <td>17.000000</td>\n",
       "      <td>36.0</td>\n",
       "    </tr>\n",
       "    <tr>\n",
       "      <th>3</th>\n",
       "      <td>4.0</td>\n",
       "      <td>148.0</td>\n",
       "      <td>11</td>\n",
       "      <td>М</td>\n",
       "      <td>333.0</td>\n",
       "      <td>-+--000--+01---100--0--1---</td>\n",
       "      <td>0(3)0(3)0(3)0(3)0(3)</td>\n",
       "      <td>NaN</td>\n",
       "      <td>5.0</td>\n",
       "      <td>17.000000</td>\n",
       "      <td>36.0</td>\n",
       "    </tr>\n",
       "    <tr>\n",
       "      <th>4</th>\n",
       "      <td>5.0</td>\n",
       "      <td>153.0</td>\n",
       "      <td>11</td>\n",
       "      <td>Ж</td>\n",
       "      <td>333.0</td>\n",
       "      <td>-+--100---00---100-+0--1---</td>\n",
       "      <td>0(3)0(3)0(3)0(3)0(3)</td>\n",
       "      <td>NaN</td>\n",
       "      <td>5.0</td>\n",
       "      <td>17.000000</td>\n",
       "      <td>36.0</td>\n",
       "    </tr>\n",
       "    <tr>\n",
       "      <th>...</th>\n",
       "      <td>...</td>\n",
       "      <td>...</td>\n",
       "      <td>...</td>\n",
       "      <td>...</td>\n",
       "      <td>...</td>\n",
       "      <td>...</td>\n",
       "      <td>...</td>\n",
       "      <td>...</td>\n",
       "      <td>...</td>\n",
       "      <td>...</td>\n",
       "      <td>...</td>\n",
       "    </tr>\n",
       "    <tr>\n",
       "      <th>1176</th>\n",
       "      <td>1177.0</td>\n",
       "      <td>148.0</td>\n",
       "      <td>11</td>\n",
       "      <td>М</td>\n",
       "      <td>330.0</td>\n",
       "      <td>++++222+++22+++222++2++2+++</td>\n",
       "      <td>3(3)3(3)3(3)3(3)2(3)</td>\n",
       "      <td>NaN</td>\n",
       "      <td>51.0</td>\n",
       "      <td>98.000000</td>\n",
       "      <td>36.0</td>\n",
       "    </tr>\n",
       "    <tr>\n",
       "      <th>1177</th>\n",
       "      <td>1178.0</td>\n",
       "      <td>152.0</td>\n",
       "      <td>11</td>\n",
       "      <td>Ж</td>\n",
       "      <td>330.0</td>\n",
       "      <td>++++222+++22+++222++2++2+++</td>\n",
       "      <td>3(3)3(3)3(3)2(3)3(3)</td>\n",
       "      <td>NaN</td>\n",
       "      <td>51.0</td>\n",
       "      <td>98.000000</td>\n",
       "      <td>36.0</td>\n",
       "    </tr>\n",
       "    <tr>\n",
       "      <th>1178</th>\n",
       "      <td>1179.0</td>\n",
       "      <td>147.0</td>\n",
       "      <td>11</td>\n",
       "      <td>М</td>\n",
       "      <td>332.0</td>\n",
       "      <td>++++222+++22+++222++2++2+++</td>\n",
       "      <td>3(3)3(3)3(3)3(3)3(3)</td>\n",
       "      <td>NaN</td>\n",
       "      <td>52.0</td>\n",
       "      <td>100.000000</td>\n",
       "      <td>36.0</td>\n",
       "    </tr>\n",
       "    <tr>\n",
       "      <th>1179</th>\n",
       "      <td>1180.0</td>\n",
       "      <td>148.0</td>\n",
       "      <td>11</td>\n",
       "      <td>М</td>\n",
       "      <td>328.0</td>\n",
       "      <td>++++222+++22+++222++2++2+++</td>\n",
       "      <td>3(3)3(3)3(3)3(3)3(3)</td>\n",
       "      <td>NaN</td>\n",
       "      <td>52.0</td>\n",
       "      <td>100.000000</td>\n",
       "      <td>36.0</td>\n",
       "    </tr>\n",
       "    <tr>\n",
       "      <th>1180</th>\n",
       "      <td>NaN</td>\n",
       "      <td>NaN</td>\n",
       "      <td>NaN</td>\n",
       "      <td>NaN</td>\n",
       "      <td>NaN</td>\n",
       "      <td>NaN</td>\n",
       "      <td>NaN</td>\n",
       "      <td>Среднее значение</td>\n",
       "      <td>NaN</td>\n",
       "      <td>52.047458</td>\n",
       "      <td>NaN</td>\n",
       "    </tr>\n",
       "  </tbody>\n",
       "</table>\n",
       "<p>1181 rows × 11 columns</p>\n",
       "</div>"
      ],
      "text/plain": [
       "           №  № школы Класс  Пол  Номер варианта    Задания с кратким ответом  \\\n",
       "0        1.0    152.0    11    М           333.0  ----001---00---000--1-+0---   \n",
       "1        2.0    140.0    12    Ж           332.0  ----100---01-+-000--0--1---   \n",
       "2        3.0    137.0    11    М           328.0  --+-010---00---101--0--1---   \n",
       "3        4.0    148.0    11    М           333.0  -+--000--+01---100--0--1---   \n",
       "4        5.0    153.0    11    Ж           333.0  -+--100---00---100-+0--1---   \n",
       "...      ...      ...   ...  ...             ...                          ...   \n",
       "1176  1177.0    148.0    11    М           330.0  ++++222+++22+++222++2++2+++   \n",
       "1177  1178.0    152.0    11    Ж           330.0  ++++222+++22+++222++2++2+++   \n",
       "1178  1179.0    147.0    11    М           332.0  ++++222+++22+++222++2++2+++   \n",
       "1179  1180.0    148.0    11    М           328.0  ++++222+++22+++222++2++2+++   \n",
       "1180     NaN      NaN   NaN  NaN             NaN                          NaN   \n",
       "\n",
       "     Задания с развёрнутым ответом      Устная часть  Первичный балл  \\\n",
       "0             0(3)0(3)0(3)0(3)0(3)               NaN             3.0   \n",
       "1             0(3)0(3)0(3)0(3)0(3)               NaN             4.0   \n",
       "2             0(3)0(3)0(3)0(3)0(3)               NaN             5.0   \n",
       "3             0(3)0(3)0(3)0(3)0(3)               NaN             5.0   \n",
       "4             0(3)0(3)0(3)0(3)0(3)               NaN             5.0   \n",
       "...                            ...               ...             ...   \n",
       "1176          3(3)3(3)3(3)3(3)2(3)               NaN            51.0   \n",
       "1177          3(3)3(3)3(3)2(3)3(3)               NaN            51.0   \n",
       "1178          3(3)3(3)3(3)3(3)3(3)               NaN            52.0   \n",
       "1179          3(3)3(3)3(3)3(3)3(3)               NaN            52.0   \n",
       "1180                           NaN  Среднее значение             NaN   \n",
       "\n",
       "            Балл  Минимальный балл  \n",
       "0      10.000000              36.0  \n",
       "1      14.000000              36.0  \n",
       "2      17.000000              36.0  \n",
       "3      17.000000              36.0  \n",
       "4      17.000000              36.0  \n",
       "...          ...               ...  \n",
       "1176   98.000000              36.0  \n",
       "1177   98.000000              36.0  \n",
       "1178  100.000000              36.0  \n",
       "1179  100.000000              36.0  \n",
       "1180   52.047458               NaN  \n",
       "\n",
       "[1181 rows x 11 columns]"
      ]
     },
     "execution_count": 2,
     "metadata": {},
     "output_type": "execute_result"
    }
   ],
   "source": [
    "exam_results = pd.read_excel('var3.xlsx', skiprows=2)\n",
    "exam_results"
   ]
  },
  {
   "cell_type": "markdown",
   "metadata": {},
   "source": [
    "Сделайте описательную статистику полученных данных."
   ]
  },
  {
   "cell_type": "code",
   "execution_count": 3,
   "metadata": {},
   "outputs": [
    {
     "name": "stdout",
     "output_type": "stream",
     "text": [
      "<class 'pandas.core.frame.DataFrame'>\n",
      "RangeIndex: 1181 entries, 0 to 1180\n",
      "Data columns (total 11 columns):\n",
      " #   Column                         Non-Null Count  Dtype  \n",
      "---  ------                         --------------  -----  \n",
      " 0   №                              1180 non-null   float64\n",
      " 1   № школы                        1180 non-null   float64\n",
      " 2   Класс                          1180 non-null   object \n",
      " 3   Пол                            1180 non-null   object \n",
      " 4   Номер варианта                 1180 non-null   float64\n",
      " 5   Задания с кратким ответом      1180 non-null   object \n",
      " 6   Задания с развёрнутым ответом  1180 non-null   object \n",
      " 7   Устная часть                   1 non-null      object \n",
      " 8   Первичный балл                 1180 non-null   float64\n",
      " 9   Балл                           1181 non-null   float64\n",
      " 10  Минимальный балл               1180 non-null   float64\n",
      "dtypes: float64(6), object(5)\n",
      "memory usage: 101.6+ KB\n"
     ]
    }
   ],
   "source": [
    "exam_results.info()"
   ]
  },
  {
   "cell_type": "markdown",
   "metadata": {},
   "source": [
    "Найдите процент учащихся, выполнивших работу ниже среднего."
   ]
  },
  {
   "cell_type": "code",
   "execution_count": 4,
   "metadata": {},
   "outputs": [
    {
     "name": "stdout",
     "output_type": "stream",
     "text": [
      "Процент учащихся, выполнивших работу ниже среднего: 56.22%\n"
     ]
    }
   ],
   "source": [
    "score_column = exam_results[\"Балл\"]\n",
    "average_score = score_column.mean() # средний результат\n",
    "\n",
    "total_students = exam_results.shape[0] # общее число студентов\n",
    "below_average_count = exam_results[score_column < average_score].shape[0] # студенты с баллом ниже среднего\n",
    "percentage_below_average = (below_average_count / total_students) * 100\n",
    "\n",
    "print(f\"Процент учащихся, выполнивших работу ниже среднего: {percentage_below_average:.2f}%\")"
   ]
  },
  {
   "cell_type": "markdown",
   "metadata": {},
   "source": [
    "Найти процент учащихся не сдавших экзамен."
   ]
  },
  {
   "cell_type": "code",
   "execution_count": 5,
   "metadata": {},
   "outputs": [
    {
     "name": "stdout",
     "output_type": "stream",
     "text": [
      "Процент учащихся, не сдавших экзамен: 7.71%\n"
     ]
    }
   ],
   "source": [
    "min_score_column = exam_results[\"Минимальный балл\"]\n",
    "failed_count = exam_results[score_column < min_score_column].shape[0] # количство студентов с баллом меньше минимума\n",
    "percentage_failed = (failed_count / total_students) * 100\n",
    "\n",
    "print(f\"Процент учащихся, не сдавших экзамен: {percentage_failed:.2f}%\")"
   ]
  },
  {
   "cell_type": "markdown",
   "metadata": {},
   "source": [
    "Постройте круговую диаграмму, показывающую распределение сдавших и не сдавших экзамен."
   ]
  },
  {
   "cell_type": "code",
   "execution_count": 6,
   "metadata": {},
   "outputs": [],
   "source": [
    "import matplotlib.pyplot as plt"
   ]
  },
  {
   "cell_type": "code",
   "execution_count": 7,
   "metadata": {},
   "outputs": [
    {
     "data": {
      "image/png": "[encoded data removed]",
      "text/plain": [
       "<Figure size 800x600 with 1 Axes>"
      ]
     },
     "metadata": {},
     "output_type": "display_data"
    }
   ],
   "source": [
    "passed_count = total_students - failed_count\n",
    "\n",
    "plt.figure(figsize=(8, 6))\n",
    "plt.pie([passed_count, failed_count], labels=['Сдали', 'Не сдали'])\n",
    "plt.axis('equal')\n",
    "\n",
    "plt.title(\"Распределение результатов экзамена\")\n",
    "plt.show()"
   ]
  },
  {
   "cell_type": "markdown",
   "metadata": {},
   "source": [
    "Постройте ядерную оценку плотности распределению баллов за экзамен."
   ]
  },
  {
   "cell_type": "code",
   "execution_count": 8,
   "metadata": {},
   "outputs": [],
   "source": [
    "import seaborn as sns"
   ]
  },
  {
   "cell_type": "code",
   "execution_count": 9,
   "metadata": {},
   "outputs": [
    {
     "data": {
      "image/png": "[encoded data removed]",
      "text/plain": [
       "<Figure size 640x480 with 1 Axes>"
      ]
     },
     "metadata": {},
     "output_type": "display_data"
    }
   ],
   "source": [
    "plt.figure()\n",
    "sns.kdeplot(score_column)\n",
    "plt.title('Ядерная оценка плотности распределения баллов за экзамен')\n",
    "plt.xlabel('Балл')\n",
    "plt.ylabel('Плотность')\n",
    "plt.show()"
   ]
  },
  {
   "cell_type": "markdown",
   "metadata": {},
   "source": [
    "Найдите процентное соотношение учащихся, сдавших экзамен на «отлично», «хорошо», «удовлетворительно», «неудовлетворительно»."
   ]
  },
  {
   "cell_type": "code",
   "execution_count": 10,
   "metadata": {},
   "outputs": [
    {
     "name": "stdout",
     "output_type": "stream",
     "text": [
      "Процент учеников, сдавших экзамен на отлично: 10.84%\n",
      "Процент учеников, сдавших экзамен на хорошо: 23.62%\n",
      "Процент учеников, сдавших экзамен на удовлетворительно: 46.91%\n",
      "Процент учеников, сдавших экзамен на неудовлетворительно: 18.63%\n"
     ]
    }
   ],
   "source": [
    "# из таблицы https://postupi.online/journal/shkala-perevoda-ballov-ege/shkala-perevoda-ballov-ege-v-ocenki/\n",
    "EXCELLENT = 73\n",
    "GOOD = 57\n",
    "SATISFACTORY = 40\n",
    "\n",
    "excellent_count = exam_results[score_column >= EXCELLENT].shape[0]\n",
    "good_count = exam_results[(score_column < EXCELLENT) & (score_column >= GOOD)].shape[0]\n",
    "satisfactory_count = exam_results[(score_column < GOOD) & (score_column >= SATISFACTORY)].shape[0]\n",
    "unsatisfactory_count = exam_results[score_column < SATISFACTORY].shape[0]\n",
    "\n",
    "excellent_percentage = (excellent_count / total_students) * 100\n",
    "good_percentage = (good_count / total_students) * 100\n",
    "satisfactory_percentage = (satisfactory_count / total_students) * 100\n",
    "unsatisfactory_percentage = (unsatisfactory_count / total_students) * 100\n",
    "\n",
    "print(f\"Процент учеников, сдавших экзамен на отлично: {excellent_percentage:.2f}%\")\n",
    "print(f\"Процент учеников, сдавших экзамен на хорошо: {good_percentage:.2f}%\")\n",
    "print(f\"Процент учеников, сдавших экзамен на удовлетворительно: {satisfactory_percentage:.2f}%\")\n",
    "print(f\"Процент учеников, сдавших экзамен на неудовлетворительно: {unsatisfactory_percentage:.2f}%\")"
   ]
  },
  {
   "cell_type": "markdown",
   "metadata": {},
   "source": [
    "Какое процентное соотношение юношей и девушек писало данный экзамен?"
   ]
  },
  {
   "cell_type": "code",
   "execution_count": 11,
   "metadata": {},
   "outputs": [
    {
     "name": "stdout",
     "output_type": "stream",
     "text": [
      "Процент юношей, писавших экзамен: 68.59%\n",
      "Процент девушек, писавших экзамен: 31.33%\n"
     ]
    }
   ],
   "source": [
    "gender_column = exam_results[\"Пол\"]\n",
    "\n",
    "male_count = exam_results[gender_column == 'М'].shape[0]\n",
    "female_count = exam_results[gender_column == 'Ж'].shape[0]\n",
    "\n",
    "male_percentage = (male_count / total_students) * 100\n",
    "female_percentage = (female_count / total_students) * 100\n",
    "\n",
    "print(f\"Процент юношей, писавших экзамен: {male_percentage:.2f}%\")\n",
    "print(f\"Процент девушек, писавших экзамен: {female_percentage:.2f}%\")"
   ]
  },
  {
   "cell_type": "markdown",
   "metadata": {},
   "source": [
    "Сколько школ принимало участие в экзамене?"
   ]
  },
  {
   "cell_type": "code",
   "execution_count": 12,
   "metadata": {},
   "outputs": [
    {
     "data": {
      "text/plain": [
       "19"
      ]
     },
     "execution_count": 12,
     "metadata": {},
     "output_type": "execute_result"
    }
   ],
   "source": [
    "school_column = exam_results[\"№ школы\"]\n",
    "unique_schools_count = school_column.nunique() # количество уникальных значение в столбце\n",
    "unique_schools_count"
   ]
  },
  {
   "cell_type": "markdown",
   "metadata": {},
   "source": [
    "Сколько всего заданий с кратким ответом? С развернутым ответом?"
   ]
  },
  {
   "cell_type": "code",
   "execution_count": 13,
   "metadata": {},
   "outputs": [
    {
     "name": "stdout",
     "output_type": "stream",
     "text": [
      "Количество заданий с кратким ответом: 27\n",
      "Количество заданий с развёрнутым ответом: 5\n"
     ]
    }
   ],
   "source": [
    "first_row = exam_results.iloc[0] # в качестве примера возьмем первую строку\n",
    "\n",
    "short_tasks_count = len(first_row[\"Задания с кратким ответом\"])\n",
    "long_tasks_count = first_row[\"Задания с развёрнутым ответом\"].count(')')\n",
    "\n",
    "print(f\"Количество заданий с кратким ответом: {short_tasks_count}\")\n",
    "print(f\"Количество заданий с развёрнутым ответом: {long_tasks_count}\")"
   ]
  },
  {
   "cell_type": "markdown",
   "metadata": {},
   "source": [
    "Пусть задания с кратким ответом будут задания типа В. Соответственно всего по экзамену вопросов класса В: В1, ... Вк\n",
    "Посчитайте процент выполненных и невыполненных заданий по каждому вопросу класса В."
   ]
  },
  {
   "cell_type": "code",
   "execution_count": 14,
   "metadata": {},
   "outputs": [
    {
     "name": "stdout",
     "output_type": "stream",
     "text": [
      "В задании B1 процент правильных решений - 85.35, а неправильных 14.65\n",
      "В задании B2 процент правильных решений - 86.88, а неправильных 13.12\n",
      "В задании B3 процент правильных решений - 62.24, а неправильных 37.76\n",
      "В задании B4 процент правильных решений - 44.45, а неправильных 55.55\n",
      "В задании B5 процент правильных решений - 82.90, а неправильных 17.10\n",
      "В задании B6 процент правильных решений - 82.81, а неправильных 17.19\n",
      "В задании B7 процент правильных решений - 80.86, а неправильных 19.14\n",
      "В задании B8 процент правильных решений - 65.54, а неправильных 34.46\n",
      "В задании B9 процент правильных решений - 73.92, а неправильных 26.08\n",
      "В задании B10 процент правильных решений - 34.97, а неправильных 65.03\n",
      "В задании B11 процент правильных решений - 83.74, а неправильных 16.26\n",
      "В задании B12 процент правильных решений - 75.28, а неправильных 24.72\n",
      "В задании B13 процент правильных решений - 56.56, а неправильных 43.44\n",
      "В задании B14 процент правильных решений - 50.97, а неправильных 49.03\n",
      "В задании B15 процент правильных решений - 42.51, а неправильных 57.49\n",
      "В задании B16 процент правильных решений - 81.80, а неправильных 18.20\n",
      "В задании B17 процент правильных решений - 67.23, а неправильных 32.77\n",
      "В задании B18 процент правильных решений - 60.54, а неправильных 39.46\n",
      "В задании B19 процент правильных решений - 81.88, а неправильных 18.12\n",
      "В задании B20 процент правильных решений - 75.02, а неправильных 24.98\n",
      "В задании B21 процент правильных решений - 79.34, а неправильных 20.66\n",
      "В задании B22 процент правильных решений - 50.72, а неправильных 49.28\n",
      "В задании B23 процент правильных решений - 61.98, а неправильных 38.02\n",
      "В задании B24 процент правильных решений - 96.02, а неправильных 3.98\n",
      "В задании B25 процент правильных решений - 29.89, а неправильных 70.11\n",
      "В задании B26 процент правильных решений - 36.92, а неправильных 63.08\n",
      "В задании B27 процент правильных решений - 29.72, а неправильных 70.28\n"
     ]
    }
   ],
   "source": [
    "short_answer_column = exam_results[\"Задания с кратким ответом\"]\n",
    "tasks_count = len(short_answer_column[0]) # количество заданий\n",
    "\n",
    "# список, в который мы будем записывать количество правильных решений для каждого задания\n",
    "completed_counts = [0] * tasks_count\n",
    "\n",
    "# заполним списки с количеством ответов\n",
    "for entry in short_answer_column:\n",
    "    for i, char in enumerate(str(entry)):\n",
    "        if char not in ['-', '0']:\n",
    "            completed_counts[i] += 1\n",
    "\n",
    "total_entries = len(short_answer_column) # общее количество решений\n",
    "for i in range(tasks_count):\n",
    "    completed_percentage = (completed_counts[i] / total_entries) * 100\n",
    "    not_completed_percentage = 100 - completed_percentage\n",
    "    print(f'В задании B{i + 1} процент правильных решений - {completed_percentage:.2f}, а неправильных {not_completed_percentage:.2f}')"
   ]
  },
  {
   "cell_type": "markdown",
   "metadata": {},
   "source": [
    "Аналогично и с типом С (ответы с развернутым ответом)"
   ]
  },
  {
   "cell_type": "code",
   "execution_count": 15,
   "metadata": {},
   "outputs": [
    {
     "name": "stdout",
     "output_type": "stream",
     "text": [
      "В задании C1 процент правильных решений - 17.61, а неправильных 82.39\n",
      "В задании C2 процент правильных решений - 38.19, а неправильных 61.81\n",
      "В задании C3 процент правильных решений - 16.34, а неправильных 83.66\n",
      "В задании C4 процент правильных решений - 23.37, а неправильных 76.63\n",
      "В задании C5 процент правильных решений - 31.75, а неправильных 68.25\n"
     ]
    }
   ],
   "source": [
    "long_answer_column = exam_results['Задания с развёрнутым ответом']\n",
    "tasks_count = long_answer_column.iloc[0].count(')')\n",
    "\n",
    "completed_counts = [0] * tasks_count\n",
    "\n",
    "for entry in long_answer_column:\n",
    "    entry = str(entry)\n",
    "    tasks = entry.split(')')[:-1]\n",
    "    for i, task in enumerate(tasks):\n",
    "        score = int(task.split('(')[0])\n",
    "        if score != 0:\n",
    "            completed_counts[i] += 1\n",
    "\n",
    "total_entries = len(long_answer_column)\n",
    "for i in range(tasks_count):\n",
    "    completed_percentage = (completed_counts[i] / total_entries) * 100\n",
    "    not_completed_percentage = 100 - completed_percentage\n",
    "    print(f'В задании C{i + 1} процент правильных решений - {completed_percentage:.2f}, а неправильных {not_completed_percentage:.2f}')"
   ]
  },
  {
   "cell_type": "markdown",
   "metadata": {},
   "source": [
    "Сделайте анализ по двум школам:\n",
    "1. по всем выполненным заданиям типа В\n",
    "2. по заданиям типа С больше 50%\n",
    "3. по среднему баллу юношей и девушек"
   ]
  },
  {
   "cell_type": "code",
   "execution_count": 16,
   "metadata": {},
   "outputs": [],
   "source": [
    "import statistics"
   ]
  },
  {
   "cell_type": "code",
   "execution_count": 17,
   "metadata": {},
   "outputs": [],
   "source": [
    "school_number_1 = 152\n",
    "school_number_2 = 140\n",
    "\n",
    "needed_columns = ['Пол', 'Задания с кратким ответом', 'Задания с развёрнутым ответом', 'Балл']\n",
    "school_data_1 = exam_results[school_column == school_number_1][needed_columns]\n",
    "school_data_2 = exam_results[school_column == school_number_2][needed_columns]"
   ]
  },
  {
   "cell_type": "markdown",
   "metadata": {},
   "source": [
    "По всем выполненным заданиям типа В:"
   ]
  },
  {
   "cell_type": "code",
   "execution_count": 18,
   "metadata": {},
   "outputs": [],
   "source": [
    "def get_b_statistics(tasks_data):\n",
    "    tasks_count = len(tasks_data.iloc[0]['Задания с кратким ответом'])\n",
    "    completed_counts = [0] * tasks_count\n",
    "    total_entries = len(tasks_data)\n",
    "\n",
    "    for entry in tasks_data['Задания с кратким ответом']:\n",
    "        for i, char in enumerate(str(entry)):\n",
    "            if char in ['-', '0']:\n",
    "                completed_counts[i] += 1\n",
    "\n",
    "    completed_percents = [(count / total_entries) * 100 for count in completed_counts]\n",
    "    completed_percent = statistics.mean(completed_percents)\n",
    "\n",
    "    return completed_percent"
   ]
  },
  {
   "cell_type": "code",
   "execution_count": 19,
   "metadata": {},
   "outputs": [
    {
     "name": "stdout",
     "output_type": "stream",
     "text": [
      "Процент выполнения заданий типа В в школе №152: 32.35294117647059\n",
      "Процент выполнения заданий типа В в школе №140: 35.528120713305896\n"
     ]
    }
   ],
   "source": [
    "print(f'Процент выполнения заданий типа В в школе №{school_number_1}: {get_b_statistics(school_data_1)}')\n",
    "print(f'Процент выполнения заданий типа В в школе №{school_number_2}: {get_b_statistics(school_data_2)}')"
   ]
  },
  {
   "cell_type": "markdown",
   "metadata": {},
   "source": [
    "По заданиям типа С:"
   ]
  },
  {
   "cell_type": "code",
   "execution_count": 20,
   "metadata": {},
   "outputs": [],
   "source": [
    "def get_c_statistics(tasks_data):\n",
    "    long_tasks_column = tasks_data['Задания с развёрнутым ответом']\n",
    "    tasks_count = long_tasks_column.iloc[0].count(')')\n",
    "\n",
    "    total_completed = 0\n",
    "    total_questions = 0\n",
    "\n",
    "    for entry in long_tasks_column:\n",
    "        entry = str(entry)\n",
    "        tasks = entry.split(')')[:-1]\n",
    "        for task in tasks:\n",
    "            score = int(task.split('(')[0])\n",
    "            if score >= 2:\n",
    "                total_completed += 1\n",
    "            total_questions += 1\n",
    "\n",
    "    completed_percent = total_completed / total_questions * 100\n",
    "    return completed_percent"
   ]
  },
  {
   "cell_type": "code",
   "execution_count": 21,
   "metadata": {},
   "outputs": [
    {
     "name": "stdout",
     "output_type": "stream",
     "text": [
      "Процент выполнения заданий типа С в школе №152: 17.41176470588235\n",
      "Процент выполнения заданий типа С в школе №140: 6.074074074074074\n"
     ]
    }
   ],
   "source": [
    "print(f'Процент выполнения заданий типа С в школе №{school_number_1}: {get_c_statistics(school_data_1)}')\n",
    "print(f'Процент выполнения заданий типа С в школе №{school_number_2}: {get_c_statistics(school_data_2)}')"
   ]
  },
  {
   "cell_type": "markdown",
   "metadata": {},
   "source": [
    "По среднему баллу юношей и девушек:"
   ]
  },
  {
   "cell_type": "code",
   "execution_count": 22,
   "metadata": {},
   "outputs": [],
   "source": [
    "def get_average_scores_by_genders(tasks_data):\n",
    "    gender_column = tasks_data['Пол']\n",
    "    male_scores = tasks_data[gender_column == 'М']['Балл']\n",
    "    female_scores = tasks_data[gender_column == 'Ж']['Балл']\n",
    "    male_avg_score = male_scores.mean()\n",
    "    female_avg_score = female_scores.mean()\n",
    "    return male_avg_score, female_avg_score"
   ]
  },
  {
   "cell_type": "code",
   "execution_count": 23,
   "metadata": {
    "scrolled": true
   },
   "outputs": [
    {
     "name": "stdout",
     "output_type": "stream",
     "text": [
      "Средний балл юношей из школы №152: 53.89915966386555\n",
      "Средний балл девушек из школы №152: 58.11764705882353\n",
      "Средний балл юношей из школы №140: 50.64835164835165\n",
      "Средний балл девушек из школы №140: 49.54545454545455\n"
     ]
    }
   ],
   "source": [
    "male_score_school_1, female_score_school_1 = get_average_scores_by_genders(school_data_1)\n",
    "male_score_school_2, female_score_school_2 = get_average_scores_by_genders(school_data_2)\n",
    "\n",
    "print(f'Средний балл юношей из школы №{school_number_1}: {male_score_school_1}')\n",
    "print(f'Средний балл девушек из школы №{school_number_1}: {female_score_school_1}')\n",
    "print(f'Средний балл юношей из школы №{school_number_2}: {male_score_school_2}')\n",
    "print(f'Средний балл девушек из школы №{school_number_2}: {female_score_school_2}')"
   ]
  },
  {
   "cell_type": "code",
   "execution_count": null,
   "metadata": {},
   "outputs": [],
   "source": []
  }
 ],
 "metadata": {
  "kernelspec": {
   "display_name": "Python 3 (ipykernel)",
   "language": "python",
   "name": "python3"
  },
  "language_info": {
   "codemirror_mode": {
    "name": "ipython",
    "version": 3
   },
   "file_extension": ".py",
   "mimetype": "text/x-python",
   "name": "python",
   "nbconvert_exporter": "python",
   "pygments_lexer": "ipython3",
   "version": "3.12.0"
  }
 },
 "nbformat": 4,
 "nbformat_minor": 4
}
